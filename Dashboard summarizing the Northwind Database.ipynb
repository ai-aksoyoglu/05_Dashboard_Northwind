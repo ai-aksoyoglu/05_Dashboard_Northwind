{
 "cells": [
  {
   "cell_type": "markdown",
   "metadata": {},
   "source": [
    "<h2 align=\"center\"> Building a dashboard to summarize the Northwind Database</h2>\n",
    "    \n",
    "__The Goal:__ In this project, you will build a dashboard summarizing the Northwind Database. It is a sample database that is shipped along with Microsoft Access. The data is about “Northwind Traders”, a fictional company. The database contains all sales transactions between the company and its customers as well as purchases from Northwinds suppliers.\n",
    "\n",
    "__The data:__ [here](https://github.com/pawlodkowski/northwind_data_clean/tree/master/data).\n",
    "\n",
    "- install PostgreSQL\n",
    "\n",
    "- create one table per CSV file\n",
    "\n",
    "- load the data into the database\n",
    "\n",
    "- create foreign keys to connect the tables\n",
    "\n",
    "- answer questions on the data in SQL\n",
    "\n",
    "- upload the data to a cloud database\n",
    "\n",
    "- build an interactive dashboard on a cloud server"
   ]
  },
  {
   "cell_type": "markdown",
   "metadata": {},
   "source": [
    "------------------"
   ]
  },
  {
   "cell_type": "markdown",
   "metadata": {},
   "source": [
    "<h2 align=\"center\"><strong>Getting the data</strong></h2>"
   ]
  },
  {
   "cell_type": "code",
   "execution_count": null,
   "metadata": {},
   "outputs": [],
   "source": []
  },
  {
   "cell_type": "markdown",
   "metadata": {},
   "source": [
    "WORKFLOW?\n",
    "\n"
   ]
  },
  {
   "cell_type": "code",
   "execution_count": null,
   "metadata": {},
   "outputs": [],
   "source": []
  }
 ],
 "metadata": {
  "kernelspec": {
   "display_name": "Python 3",
   "language": "python",
   "name": "python3"
  },
  "language_info": {
   "codemirror_mode": {
    "name": "ipython",
    "version": 3
   },
   "file_extension": ".py",
   "mimetype": "text/x-python",
   "name": "python",
   "nbconvert_exporter": "python",
   "pygments_lexer": "ipython3",
   "version": "3.8.5"
  }
 },
 "nbformat": 4,
 "nbformat_minor": 4
}
