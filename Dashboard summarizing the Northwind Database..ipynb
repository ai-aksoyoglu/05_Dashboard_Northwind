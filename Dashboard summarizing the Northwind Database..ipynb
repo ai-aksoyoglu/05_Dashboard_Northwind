{
 "cells": [
  {
   "cell_type": "markdown",
   "metadata": {},
   "source": [
    "<h2 align=\"center\">Predicting the artist from text \n",
    "    <h2 align=\"center\">using Web Scraping and a Naive Bayes classifier\n",
    "</h2>\n",
    "    \n",
    "    \n",
    "__1) The Goal:__ In this project, you will build a dashboard summarizing the Northwind Database. It is a sample database that is shipped along with Microsoft Access. The data is about “Northwind Traders”, a fictional company. The database contains all sales transactions between the company and its customers as well as purchases from Northwinds suppliers.\n",
    "    \n",
    "__2) Get the Data:__ The data is available [here](https://github.com/pawlodkowski/northwind_data_clean/tree/master/data). \n",
    "    \n",
    "__3) Split the Data:__ As usual.  \n",
    "\n",
    "__4) Exploratory Data Analysis (EDA):__ No need for EDA here.\n",
    "\n",
    "__5)-9) Feature Engineering (FE), Train Model, Optimize Hyperparameters/Cross-Validation:__ Convert text to numbers by applying the Bag Of Words method; Build and train a Naive Bayes classifier; Balance out the dataset.\n",
    "\n",
    "__10) Calculate Test Score__ \n",
    "    \n",
    "__11) Deploy and Monitor:__   Write a command-line interface\n"
   ]
  },
  {
   "cell_type": "markdown",
   "metadata": {},
   "source": [
    "------------------"
   ]
  },
  {
   "cell_type": "markdown",
   "metadata": {},
   "source": [
    "<h2 align=\"center\"><strong>Getting the data: Web Scraping</strong></h2>"
   ]
  },
  {
   "cell_type": "code",
   "execution_count": null,
   "metadata": {},
   "outputs": [],
   "source": []
  },
  {
   "cell_type": "markdown",
   "metadata": {},
   "source": [
    "WORKFLOW?\n",
    "\n"
   ]
  },
  {
   "cell_type": "code",
   "execution_count": null,
   "metadata": {},
   "outputs": [],
   "source": []
  }
 ],
 "metadata": {
  "kernelspec": {
   "display_name": "Python 3",
   "language": "python",
   "name": "python3"
  },
  "language_info": {
   "codemirror_mode": {
    "name": "ipython",
    "version": 3
   },
   "file_extension": ".py",
   "mimetype": "text/x-python",
   "name": "python",
   "nbconvert_exporter": "python",
   "pygments_lexer": "ipython3",
   "version": "3.8.5"
  }
 },
 "nbformat": 4,
 "nbformat_minor": 4
}
